{
 "cells": [
  {
   "cell_type": "code",
   "execution_count": 1,
   "id": "f42ebe07-6dd0-44dd-87e1-eabee10f7dc2",
   "metadata": {},
   "outputs": [],
   "source": [
    "import numpy as np"
   ]
  },
  {
   "cell_type": "code",
   "execution_count": 3,
   "id": "27f5fec8-6204-4124-a0e1-5d3306a61227",
   "metadata": {},
   "outputs": [],
   "source": [
    "hairstyles = [\"bouffant\", \"pixie\", \"dreadlocks\", \"crew\",\n",
    "              \"bowl\", \"bob\", \"mohawk\", \"flattop\"]"
   ]
  },
  {
   "cell_type": "code",
   "execution_count": 4,
   "id": "ceaffe33-2959-481b-8e78-2e67a988a983",
   "metadata": {},
   "outputs": [],
   "source": [
    "prices = [30, 25, 40, 20, 20, 35, 50, 35]"
   ]
  },
  {
   "cell_type": "code",
   "execution_count": 5,
   "id": "d9a67c09-9c5c-415c-89dd-43633f108e49",
   "metadata": {},
   "outputs": [],
   "source": [
    "last_week = [2, 3, 5, 8, 4, 4, 6, 2]"
   ]
  },
  {
   "cell_type": "code",
   "execution_count": 6,
   "id": "b2bbe6e2-ca1a-4bdc-8d73-eae770f825f0",
   "metadata": {},
   "outputs": [],
   "source": [
    "total_price = 0"
   ]
  },
  {
   "cell_type": "code",
   "execution_count": 7,
   "id": "feaa0541-2f63-48a0-8e30-c53ce265d69f",
   "metadata": {},
   "outputs": [],
   "source": [
    "for i in range(8) :\n",
    "    total_price += prices[i]\n",
    "average_price = total_price / len(prices)"
   ]
  },
  {
   "cell_type": "code",
   "execution_count": 8,
   "id": "652423d7-db11-4578-9a24-1f48f4c547d4",
   "metadata": {},
   "outputs": [
    {
     "name": "stdout",
     "output_type": "stream",
     "text": [
      "Average prices is 31.875\n"
     ]
    }
   ],
   "source": [
    "print(\"Average prices is\", average_price)"
   ]
  },
  {
   "cell_type": "code",
   "execution_count": 9,
   "id": "3bb9545d-62f8-4622-8746-032cc2ff0720",
   "metadata": {},
   "outputs": [],
   "source": [
    "new_prices = [prices - 5 for prices in prices]"
   ]
  },
  {
   "cell_type": "code",
   "execution_count": 10,
   "id": "baaceac0-83b7-45aa-976a-b98a4115faa6",
   "metadata": {},
   "outputs": [
    {
     "name": "stdout",
     "output_type": "stream",
     "text": [
      "[25, 20, 35, 15, 15, 30, 45, 30]\n"
     ]
    }
   ],
   "source": [
    "print(new_prices)"
   ]
  },
  {
   "cell_type": "code",
   "execution_count": 13,
   "id": "15747a1d-ecae-4fd7-a345-d2df0450cc1d",
   "metadata": {},
   "outputs": [],
   "source": [
    "total_revenue = 0"
   ]
  },
  {
   "cell_type": "code",
   "execution_count": 14,
   "id": "351c9708-1a3d-4211-8aed-f3f5da10f42a",
   "metadata": {},
   "outputs": [],
   "source": [
    "for i in range(0, len(hairstyles)) :\n",
    "    total_revenue += prices[i] * last_week[i]"
   ]
  },
  {
   "cell_type": "code",
   "execution_count": 15,
   "id": "3c5172c8-38d3-41d7-a880-94daaaa06130",
   "metadata": {},
   "outputs": [
    {
     "name": "stdout",
     "output_type": "stream",
     "text": [
      "1085\n"
     ]
    }
   ],
   "source": [
    "print(total_revenue)"
   ]
  },
  {
   "cell_type": "code",
   "execution_count": 16,
   "id": "7ade8a63-a600-4366-82fc-cdd45f69f2c8",
   "metadata": {},
   "outputs": [
    {
     "name": "stdout",
     "output_type": "stream",
     "text": [
      "Average daily revenue is  155.0\n"
     ]
    }
   ],
   "source": [
    "average_daily_revenue = total_revenue / 7\n",
    "print(\"Average daily revenue is \" , average_daily_revenue)"
   ]
  },
  {
   "cell_type": "code",
   "execution_count": 17,
   "id": "bd6a2968-7c33-416a-bd2d-6be620abda62",
   "metadata": {},
   "outputs": [],
   "source": [
    "cuts_under_30 = [hairstyles[i] for i in range(0, len(new_prices) - 1)\n",
    "                 if new_prices[i] < 30]"
   ]
  },
  {
   "cell_type": "code",
   "execution_count": 18,
   "id": "72385307-4328-49ef-a07d-a2f9ebbf4f85",
   "metadata": {},
   "outputs": [
    {
     "name": "stdout",
     "output_type": "stream",
     "text": [
      "['bouffant', 'pixie', 'crew', 'bowl']\n"
     ]
    }
   ],
   "source": [
    "print(cuts_under_30)"
   ]
  },
  {
   "cell_type": "code",
   "execution_count": null,
   "id": "c6c329f9-23b1-49f4-8ec9-f30f0670a7cb",
   "metadata": {},
   "outputs": [],
   "source": []
  }
 ],
 "metadata": {
  "kernelspec": {
   "display_name": "Python 3 (ipykernel)",
   "language": "python",
   "name": "python3"
  },
  "language_info": {
   "codemirror_mode": {
    "name": "ipython",
    "version": 3
   },
   "file_extension": ".py",
   "mimetype": "text/x-python",
   "name": "python",
   "nbconvert_exporter": "python",
   "pygments_lexer": "ipython3",
   "version": "3.9.7"
  }
 },
 "nbformat": 4,
 "nbformat_minor": 5
}
